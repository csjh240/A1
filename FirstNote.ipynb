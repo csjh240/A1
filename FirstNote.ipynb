{
  "cells": [
    {
      "cell_type": "markdown",
      "metadata": {
        "id": "view-in-github",
        "colab_type": "text"
      },
      "source": [
        "<a href=\"https://colab.research.google.com/github/csjh240/A1/blob/master/FirstNote.ipynb\" target=\"_parent\"><img src=\"https://colab.research.google.com/assets/colab-badge.svg\" alt=\"Open In Colab\"/></a>"
      ]
    },
    {
      "cell_type": "code",
      "execution_count": null,
      "metadata": {
        "colab": {
          "base_uri": "https://localhost:8080/"
        },
        "id": "GkhhgMSDqyrW",
        "outputId": "1f955602-571f-4c01-9cde-f90cc6e3b2a3"
      },
      "outputs": [
        {
          "output_type": "stream",
          "name": "stdout",
          "text": [
            "輸入攝氏溫度：0\n",
            "華氏溫度: 32.0\n",
            "輸入攝氏溫度：100\n",
            "華氏溫度: 212.0\n",
            "輸入攝氏溫度：0\n",
            "華氏溫度: 32.0\n"
          ]
        }
      ],
      "source": [
        "while True:\n",
        "  c = int(input(\"輸入攝氏溫度：\"))\n",
        "  f = c * 9 / 5 + 32\n",
        "  print(\"華氏溫度:\",f)\n"
      ]
    },
    {
      "cell_type": "code",
      "execution_count": null,
      "metadata": {
        "colab": {
          "background_save": true,
          "base_uri": "https://localhost:8080/"
        },
        "id": "YYB-3SwQsg40",
        "outputId": "d715d007-ffc7-4d66-ff60-544b2168d4a8"
      },
      "outputs": [
        {
          "name": "stdout",
          "output_type": "stream",
          "text": [
            "leap yeat\n",
            "nor year\n"
          ]
        }
      ],
      "source": [
        "while True :\n",
        "  year=int(input())\n",
        "  if year % 4 == 0 and year % 100 > 0 or year % 400 == 0 :\n",
        "    print(\"leap yeat\")\n",
        "  else :\n",
        "    print(\"nor year\")\n",
        "\n"
      ]
    }
  ],
  "metadata": {
    "colab": {
      "provenance": [],
      "include_colab_link": true
    },
    "kernelspec": {
      "display_name": "Python 3",
      "name": "python3"
    },
    "language_info": {
      "name": "python"
    }
  },
  "nbformat": 4,
  "nbformat_minor": 0
}